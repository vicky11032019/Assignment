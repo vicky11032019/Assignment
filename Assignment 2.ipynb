{
 "cells": [
  {
   "cell_type": "markdown",
   "metadata": {},
   "source": [
    "# Task 1"
   ]
  },
  {
   "cell_type": "markdown",
   "metadata": {},
   "source": [
    "1.1"
   ]
  },
  {
   "cell_type": "markdown",
   "metadata": {},
   "source": [
    "Write a Python Program to implement your own myreduce() function which works exactly like\n",
    "Python's built-in function reduce()"
   ]
  },
  {
   "cell_type": "code",
   "execution_count": 12,
   "metadata": {},
   "outputs": [
    {
     "name": "stdout",
     "output_type": "stream",
     "text": [
      "120\n"
     ]
    }
   ],
   "source": [
    "#myreduce function to provide the product of elements in a given list\n",
    "\n",
    "def myreduce(n):\n",
    "    j=1\n",
    "    for i in range(0,len(n)):\n",
    "        j=j*n[i]\n",
    "    return j\n",
    "\n",
    "\n",
    "n=[2,4,5,3]\n",
    "\n",
    "prod=myreduce(n)\n",
    "\n",
    "print(prod)"
   ]
  },
  {
   "cell_type": "markdown",
   "metadata": {},
   "source": [
    "1.2"
   ]
  },
  {
   "cell_type": "markdown",
   "metadata": {},
   "source": [
    "Write a Python program to implement your own myfilter() function which works exactly like\n",
    "Python's built-in function filter()"
   ]
  },
  {
   "cell_type": "code",
   "execution_count": 11,
   "metadata": {},
   "outputs": [
    {
     "name": "stdout",
     "output_type": "stream",
     "text": [
      "[2, 4, 30, 44]\n"
     ]
    }
   ],
   "source": [
    "#myfilter function to filter the even numbers from a given list\n",
    "\n",
    "def myfilter(n):\n",
    "    filt=[]\n",
    "    for i in range(0,len(n)):\n",
    "        if n[i]%2==0:\n",
    "            filt.append(n[i])\n",
    "    return filt\n",
    "\n",
    "\n",
    "n=[2,4,5,30,44,67]\n",
    "\n",
    "prod=list(myfilter(n))\n",
    "\n",
    "print(prod)"
   ]
  },
  {
   "cell_type": "markdown",
   "metadata": {},
   "source": [
    "2"
   ]
  },
  {
   "cell_type": "markdown",
   "metadata": {},
   "source": [
    "Implement List comprehensions to produce the following lists.\n",
    "Write List comprehensions to produce the following Lists"
   ]
  },
  {
   "cell_type": "markdown",
   "metadata": {},
   "source": [
    "['A', 'C', 'A', 'D', 'G', 'I', ’L’, ‘ D’]"
   ]
  },
  {
   "cell_type": "code",
   "execution_count": 14,
   "metadata": {},
   "outputs": [
    {
     "name": "stdout",
     "output_type": "stream",
     "text": [
      "['A', 'C', 'A', 'D', 'G', 'I', 'L', 'D']\n"
     ]
    }
   ],
   "source": [
    "\n",
    "a=\"ACADGILD\"\n",
    "\n",
    "k=[i for i in a]\n",
    "\n",
    "print(k)"
   ]
  },
  {
   "cell_type": "markdown",
   "metadata": {},
   "source": [
    "['x', 'xx', 'xxx', 'xxxx', 'y', 'yy', 'yyy', 'yyyy', 'z', 'zz', '"
   ]
  },
  {
   "cell_type": "code",
   "execution_count": 18,
   "metadata": {},
   "outputs": [
    {
     "data": {
      "text/plain": [
       "['x', 'xx', 'xxx', 'xxxx', 'y', 'yy', 'yyy', 'yyyy', 'z', 'zz', 'zzz', 'zzzz']"
      ]
     },
     "execution_count": 18,
     "metadata": {},
     "output_type": "execute_result"
    }
   ],
   "source": [
    " aa=['x','y','z']\n",
    "    \n",
    "[ aa[i]*j  for i in range(3) for j in range(1,5)]"
   ]
  },
  {
   "cell_type": "markdown",
   "metadata": {},
   "source": [
    "['x', 'y', 'z', 'xx', 'yy', 'zz', 'xx', 'yy', 'zz', 'xxxx', 'yyyy', 'zzzz']"
   ]
  },
  {
   "cell_type": "code",
   "execution_count": 35,
   "metadata": {},
   "outputs": [
    {
     "data": {
      "text/plain": [
       "['x', 'y', 'z', 'xx', 'yy', 'zz', 'xxx', 'yyy', 'zzz', 'xxxx', 'yyyy', 'zzzz']"
      ]
     },
     "execution_count": 35,
     "metadata": {},
     "output_type": "execute_result"
    }
   ],
   "source": [
    " aa=['x','y','z']\n",
    "    \n",
    "[ aa[j]*i  for i in range(1,5) for j in range(0,3)]"
   ]
  },
  {
   "cell_type": "markdown",
   "metadata": {},
   "source": [
    "[[2], [3], [4], [3], [4], [5], [4], [5], [6]]"
   ]
  },
  {
   "cell_type": "code",
   "execution_count": 34,
   "metadata": {},
   "outputs": [
    {
     "data": {
      "text/plain": [
       "[[2], [3], [4], [3], [4], [5], [4], [5], [6]]"
      ]
     },
     "execution_count": 34,
     "metadata": {},
     "output_type": "execute_result"
    }
   ],
   "source": [
    "a=[2,3,4,3,4,5,4,5,6]\n",
    "\n",
    "\n",
    "[[a[i]] for i in range(0,len(a))]"
   ]
  },
  {
   "cell_type": "markdown",
   "metadata": {},
   "source": [
    "[[2, 3, 4, 5], [3, 4, 5, 6], [4, 5, 6, 7], [5, 6, 7, 8]]"
   ]
  },
  {
   "cell_type": "code",
   "execution_count": 7,
   "metadata": {},
   "outputs": [
    {
     "name": "stdout",
     "output_type": "stream",
     "text": [
      "[[2, 3, 4, 5], [3, 4, 5, 6], [4, 5, 6, 7], [5, 6, 7, 8]]\n"
     ]
    }
   ],
   "source": [
    "a=[2,3,4,5,6,7,8]\n",
    "\n",
    "c=[]\n",
    "k=0\n",
    "\n",
    "for i in range(0,4):\n",
    "    b=[]\n",
    "    for j in range(i,i+4):\n",
    "        b.append(a[j])\n",
    "    c.append(b)\n",
    "    #print(c)\n",
    "    #k+=1\n",
    "\n",
    "print(c)"
   ]
  },
  {
   "cell_type": "markdown",
   "metadata": {},
   "source": [
    "[(1, 1), (2, 1), (3, 1), (1, 2), (2, 2), (3, 2), (1, 3), (2, 3), (3, 3)]"
   ]
  },
  {
   "cell_type": "code",
   "execution_count": 22,
   "metadata": {},
   "outputs": [
    {
     "data": {
      "text/plain": [
       "[(1, 1), (2, 1), (3, 1), (1, 2), (2, 2), (3, 2), (1, 3), (2, 3), (3, 3)]"
      ]
     },
     "execution_count": 22,
     "metadata": {},
     "output_type": "execute_result"
    }
   ],
   "source": [
    "list1=[]\n",
    "\n",
    "\n",
    "tup=[1,2,3]\n",
    "\n",
    "[ (tup[j],tup[i])  for i in range(0,3) for j in range(0,3)]\n",
    "    \n",
    "        "
   ]
  },
  {
   "cell_type": "markdown",
   "metadata": {},
   "source": [
    "3)Implement a function longestWord() that takes a list of words and returns the longest one."
   ]
  },
  {
   "cell_type": "code",
   "execution_count": 25,
   "metadata": {},
   "outputs": [
    {
     "name": "stdout",
     "output_type": "stream",
     "text": [
      "erdeddddd\n"
     ]
    }
   ],
   "source": [
    "\n",
    "def longestword(n):\n",
    "    #longest=n[0]\n",
    "    for i in range(0,len(n)-1):\n",
    "        if len(n[i])>len(n[i+1]):\n",
    "            longest=n[i]\n",
    "        else:\n",
    "            longest=n[i+1]\n",
    "    return longest\n",
    "            \n",
    "            \n",
    "            \n",
    "wordlist=['dd','erdd','erdeddddd','dde']\n",
    "\n",
    "lg=longestword(wordlist)\n",
    "\n",
    "print(lg)"
   ]
  },
  {
   "cell_type": "markdown",
   "metadata": {},
   "source": [
    "# Task 2:"
   ]
  },
  {
   "cell_type": "markdown",
   "metadata": {},
   "source": [
    "1.1\n",
    "Write a Python Program(with class concepts) to find the area of the triangle using the below\n",
    "formula.\n",
    "area = (s*(s-a)*(s-b)*(s-c)) ** 0.5\n",
    "Function to take the length of the sides of triangle from user should be defined in the parent\n",
    "class and function to calculate the area should be defined in subclass."
   ]
  },
  {
   "cell_type": "code",
   "execution_count": 6,
   "metadata": {},
   "outputs": [
    {
     "name": "stdout",
     "output_type": "stream",
     "text": [
      "a:4\n",
      "b:5\n",
      "c:3\n",
      "Area : 177904.43291272986\n"
     ]
    }
   ],
   "source": [
    "\n",
    "class parent_triangle:\n",
    "    def __init__(p,aside,bside,cside):\n",
    "        p.aside=int(aside)\n",
    "        p.bside=int(bside)\n",
    "        p.cside=int(cside)\n",
    "\n",
    "        \n",
    "   \n",
    "aside=input(\"a:\")\n",
    "bside=input(\"b:\")\n",
    "cside=input(\"c:\")\n",
    "\n",
    "#triangle=child_triangle(78,90,45)\n",
    "\n",
    "#print(child_triangle.area)\n",
    "\n",
    "class child_triangle(parent_triangle):\n",
    "    def __init__(p,svalue,*args):\n",
    "        super(child_triangle,p).__init__(*args)\n",
    "        p.svalue=svalue\n",
    "        svalue=34\n",
    "        \n",
    "        a=(p.svalue*(p.svalue-int(p.aside))*(p.svalue-int(p.bside))*(p.svalue-int(p.cside))) ** 0.5\n",
    "        \n",
    "        print(\"Area : {}\".format(a))\n",
    "        \n",
    "        \n",
    "trag=child_triangle(450,55,23,33)\n",
    "\n",
    "#print(trag)\n",
    "    \n",
    "\n",
    "\n",
    "\n",
    "\n",
    "\n",
    "    "
   ]
  },
  {
   "cell_type": "markdown",
   "metadata": {},
   "source": [
    "Write a function filter_long_words() that takes a list of words and an integer n and returns the list\n",
    "of words that are longer than n."
   ]
  },
  {
   "cell_type": "code",
   "execution_count": 15,
   "metadata": {},
   "outputs": [
    {
     "name": "stdout",
     "output_type": "stream",
     "text": [
      "['dcfd', 'edcfedddd']\n"
     ]
    }
   ],
   "source": [
    "word_list=['acd','dcfd','ww','edcfedddd']\n",
    "n=3\n",
    "\n",
    "def filter_long_words(x):\n",
    "    \n",
    "    if len(x)>n:\n",
    "        #print(i)\n",
    "        return True\n",
    "    \n",
    "    \n",
    "\n",
    "kk=list(filter(filter_long_words,word_list))\n",
    "\n",
    "print(kk)\n",
    "\n",
    "\n",
    "\n",
    "\n"
   ]
  },
  {
   "cell_type": "markdown",
   "metadata": {},
   "source": [
    "Write a Python program using function concept that maps list of words into a list of integers\n",
    "representing the lengths of the corresponding words .\n",
    "Hint: If a list [ ab,cde,erty] is passed on to the python function output should come as [2,3,4]\n",
    "Here 2,3 and 4 are the lengths of the words in the list"
   ]
  },
  {
   "cell_type": "code",
   "execution_count": 16,
   "metadata": {},
   "outputs": [
    {
     "name": "stdout",
     "output_type": "stream",
     "text": [
      "[2, 3, 4]\n"
     ]
    }
   ],
   "source": [
    "\n",
    "a=['ab','cde','erty']\n",
    "\n",
    "aa=list(map(lambda x:len(x),a))\n",
    "\n",
    "print(aa)\n"
   ]
  },
  {
   "cell_type": "markdown",
   "metadata": {},
   "source": [
    "2.2\n",
    "Write a Python function which takes a character (i.e. a string of length 1) and returns True if it is\n",
    "a vowel, False otherwise."
   ]
  },
  {
   "cell_type": "code",
   "execution_count": 22,
   "metadata": {},
   "outputs": [
    {
     "name": "stdout",
     "output_type": "stream",
     "text": [
      "False\n"
     ]
    }
   ],
   "source": [
    "\n",
    "letters = ['a', 'e', 'i', 'o', 'u']\n",
    "char='m'\n",
    "\n",
    "def check(char):\n",
    "    if char in letters:\n",
    "        return True\n",
    "    else:\n",
    "        return False\n",
    "\n",
    "a=check(char)\n",
    "\n",
    "print(a)\n"
   ]
  },
  {
   "cell_type": "code",
   "execution_count": null,
   "metadata": {},
   "outputs": [],
   "source": []
  }
 ],
 "metadata": {
  "kernelspec": {
   "display_name": "Python 3",
   "language": "python",
   "name": "python3"
  },
  "language_info": {
   "codemirror_mode": {
    "name": "ipython",
    "version": 3
   },
   "file_extension": ".py",
   "mimetype": "text/x-python",
   "name": "python",
   "nbconvert_exporter": "python",
   "pygments_lexer": "ipython3",
   "version": "3.7.4"
  }
 },
 "nbformat": 4,
 "nbformat_minor": 2
}
